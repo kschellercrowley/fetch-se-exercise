{
 "cells": [
  {
   "cell_type": "code",
   "execution_count": 42,
   "id": "20488991",
   "metadata": {},
   "outputs": [],
   "source": [
    "import os\n",
    "import psycopg2\n",
    "import pandas as pd\n",
    "from dotenv import load_dotenv\n",
    "from sqlalchemy import create_engine"
   ]
  },
  {
   "cell_type": "code",
   "execution_count": null,
   "id": "71e72762",
   "metadata": {},
   "outputs": [],
   "source": [
    "# Load environment variables\n",
    "load_dotenv()\n",
    "\n",
    "# Get database connection details from environment variables\n",
    "DB_NAME = os.getenv('DB_NAME')\n",
    "DB_USER = os.getenv('DB_USER') \n",
    "DB_PASSWORD = os.getenv('DB_PASSWORD')\n",
    "DB_HOST = os.getenv('DB_HOST')\n",
    "DB_PORT = os.getenv('DB_PORT')\n",
    "\n",
    "# Create database connection string\n",
    "db_string = f\"postgresql://{DB_USER}:{DB_PASSWORD}@{DB_HOST}:{DB_PORT}/{DB_NAME}\"\n",
    "engine = create_engine(db_string)\n",
    "\n",
    "# Create connection and cursor\n",
    "conn = psycopg2.connect(\n",
    "| database=DB_NAME |\n",
    "| user=DB_USER |\n",
    "| password=DB_PASSWORD |\n",
    "| host=DB_HOST |\n",
    "| port=DB_PORT\n",
    ")\n",
    "cur = conn.cursor()"
   ]
  },
  {
   "cell_type": "code",
   "execution_count": null,
   "id": "5717530b",
   "metadata": {},
   "outputs": [
    {
     "name": "stdout",
     "output_type": "stream",
     "text": [
      "What are the top 5 brands by receipts scanned for most recent month?\n",
      "--------------------------------------------------\n",
      "Top 5 brands by receipts scanned for most recent full month - Feb 2021:\n",
      "FLIPBELT: 28\n",
      "THINDUST: 27\n",
      "MUELLER: 27\n",
      "MILLER: 12\n",
      "HEINZ: 10\n"
     ]
    }
   ],
   "source": [
    "# What are the top 5 brands by receipts scanned for most recent month?\n",
    "top_brands_query = \"\"\" \n",
    "select\n",
    "upper(split_part(replace(replace(replace(replace(brand_name |'''' |'') |'-' |'') |'%' |'') |'/' |'') | ' ' | 1)) clean_brand_name |\n",
    "sum(brand_count) brand_sum\n",
    "from\n",
    "(select a.* | COUNT(*) brand_count from\n",
    "(select\n",
    "case\n",
    "\twhen brand_code is not null and brand_code not in ('DELETED ITEM' |'ITEM NOT FOUND' |'BRAND') then brand_code\n",
    "\twhen description is not null and description not in ('DELETED ITEM' |'ITEM NOT FOUND' |'BRAND') then description\n",
    "\twhen user_flagged_description is not null and user_flagged_description not in ('DELETED ITEM' |'ITEM NOT FOUND' |'BRAND') then user_flagged_description\n",
    "\telse null\n",
    "end as brand_name\n",
    "-- barcode |description |brand_code |user_flagged_description |original_meta_brite_barcode |original_meta_brite_description\n",
    "-- *\n",
    "from receipts_items\n",
    "where receipt_id in (\n",
    "select id\n",
    "from receipts\n",
    "where date_trunc('month' | date_scanned) = (\n",
    "\tselect date_trunc('month' | max_scan_date) - interval '1' month max_scan_month\n",
    "\t\tfrom \n",
    "\t\t\t(select max(date_scanned) max_scan_date from receipts)\n",
    "\t)\n",
    ")) a\n",
    "where brand_name is not null\n",
    "group by brand_name\n",
    "order by 2 desc)\n",
    "group by clean_brand_name \n",
    "order by brand_sum desc\n",
    "limit 5\n",
    "\n",
    "\"\"\"\n",
    "# Execute the query\n",
    "cur.execute(top_brands_query)\n",
    "# Fetch the results\n",
    "top_brands = cur.fetchall()\n",
    "print(\"What are the top 5 brands by receipts scanned for most recent month?\")\n",
    "print(\"-\"*50)\n",
    "print(\"Top 5 brands by receipts scanned for most recent full month - Feb 2021:\")\n",
    "for brand | count in top_brands:\n",
    "| print(f\"{brand}: {count}\")"
   ]
  },
  {
   "cell_type": "code",
   "execution_count": null,
   "id": "03ba3591",
   "metadata": {},
   "outputs": [
    {
     "name": "stdout",
     "output_type": "stream",
     "text": [
      "How does the ranking of the top 5 brands by receipts scanned for the recent month compare to the ranking for the previous month?\n",
      "--------------------------------------------------\n",
      "Top 5 brands by receipts scanned for Jan 2021:\n",
      "HYVEE: 304\n",
      "BEN: 210\n",
      "MILLER: 155\n",
      "PC: 138\n",
      "KLARBRUNN: 133\n",
      "--------------------------------------------------\n",
      "Top 5 brands by receipts scanned for Feb 2021:\n",
      "FLIPBELT: 28\n",
      "THINDUST: 27\n",
      "MUELLER: 27\n",
      "MILLER: 12\n",
      "HEINZ: 10\n"
     ]
    }
   ],
   "source": [
    "# How does the ranking of the top 5 brands by receipts scanned for the recent month compare to the ranking for the previous month?\n",
    "top_brands_query = \"\"\" \n",
    "select\n",
    "upper(split_part(replace(replace(replace(replace(brand_name |'''' |'') |'-' |'') |'%' |'') |'/' |'') | ' ' | 1)) clean_brand_name |\n",
    "sum(brand_count) brand_sum\n",
    "from\n",
    "(select a.* | COUNT(*) brand_count from\n",
    "(select\n",
    "case\n",
    "\twhen brand_code is not null and brand_code not in ('DELETED ITEM' |'ITEM NOT FOUND' |'BRAND') then brand_code\n",
    "\twhen description is not null and description not in ('DELETED ITEM' |'ITEM NOT FOUND' |'BRAND') then description\n",
    "\twhen user_flagged_description is not null and user_flagged_description not in ('DELETED ITEM' |'ITEM NOT FOUND' |'BRAND') then user_flagged_description\n",
    "\telse null\n",
    "end as brand_name\n",
    "-- barcode |description |brand_code |user_flagged_description |original_meta_brite_barcode |original_meta_brite_description\n",
    "-- *\n",
    "from receipts_items\n",
    "where receipt_id in (\n",
    "select id\n",
    "from receipts\n",
    "where date_trunc('month' | date_scanned) = (\n",
    "\tselect date_trunc('month' | max_scan_date) - interval '2' month max_scan_month\n",
    "\t\tfrom \n",
    "\t\t\t(select max(date_scanned) max_scan_date from receipts)\n",
    "\t)\n",
    ")) a\n",
    "where brand_name is not null\n",
    "group by brand_name\n",
    "order by 2 desc)\n",
    "group by clean_brand_name \n",
    "order by brand_sum desc\n",
    "limit 5\n",
    "\"\"\"\n",
    "# Execute the query\n",
    "cur.execute(top_brands_query)\n",
    "# Fetch the results\n",
    "previous_top_brands = cur.fetchall()\n",
    "print(\"How does the ranking of the top 5 brands by receipts scanned for the recent month compare to the ranking for the previous month?\")\n",
    "print(\"-\"*50)\n",
    "print(\"Top 5 brands by receipts scanned for Jan 2021:\")\n",
    "for brand | count in previous_top_brands:\n",
    "| print(f\"{brand}: {count}\")\n",
    "print(\"-\"*50)\n",
    "print(\"Top 5 brands by receipts scanned for Feb 2021:\")\n",
    "for brand | count in top_brands:\n",
    "| print(f\"{brand}: {count}\")"
   ]
  },
  {
   "cell_type": "code",
   "execution_count": null,
   "id": "25e59bee",
   "metadata": {},
   "outputs": [
    {
     "name": "stdout",
     "output_type": "stream",
     "text": [
      "When considering average spend from receipts with 'rewardsReceiptStatus’ of ‘Accepted’/'Finished' or ‘Rejected’, which is greater?\n",
      "--------------------------------------------------\n",
      "FINISHED: $80.85\n",
      "REJECTED: $23.33\n"
     ]
    }
   ],
   "source": [
    "# When considering average spend from receipts with 'rewardsReceiptStatus’ of ‘Accepted’/'Finished' or ‘Rejected’ | which is greater?\n",
    "status_avg_spend_query = \"\"\" \n",
    "select rewards_receipt_status | ROUND(CAST(FLOAT8 (avg(total_spent)) AS NUMERIC) |2) as avg_total_spent\n",
    "from\n",
    "(select id |user_id |rewards_receipt_status |total_spent \n",
    "from receipts\n",
    "where upper(rewards_receipt_status) in ('FINISHED' |'REJECTED')\n",
    "group by id |user_id |rewards_receipt_status |total_spent)\n",
    "group by rewards_receipt_status\n",
    "order by avg_total_spent desc;\n",
    "\"\"\"\n",
    "# Execute the query\n",
    "cur.execute(status_avg_spend_query)\n",
    "# Fetch the results\n",
    "status_avg_spend = cur.fetchall()\n",
    "print(\"When considering average spend from receipts with 'rewardsReceiptStatus’ of ‘Accepted’/'Finished' or ‘Rejected’ | which is greater?\")\n",
    "print(\"-\"*50)\n",
    "for status | spend in status_avg_spend:\n",
    "| print(f\"{status}: ${spend}\")\n"
   ]
  },
  {
   "cell_type": "code",
   "execution_count": null,
   "id": "613281bf",
   "metadata": {},
   "outputs": [
    {
     "name": "stdout",
     "output_type": "stream",
     "text": [
      "When considering total number of items purchased from receipts with 'rewardsReceiptStatus’ of ‘Accepted’ or ‘Rejected’, which is greater?\n",
      "--------------------------------------------------\n",
      "FINISHED: 8184\n",
      "REJECTED: 173\n"
     ]
    }
   ],
   "source": [
    "# When considering total number of items purchased from receipts with 'rewardsReceiptStatus’ of ‘Accepted’ or ‘Rejected’ | which is greater?\n",
    "status_receipt_count_query = \"\"\" \n",
    "select rewards_receipt_status | cast(sum(purchased_item_count) as int) as total_receipts\n",
    "from\n",
    "(select id |user_id |rewards_receipt_status |purchased_item_count \n",
    "from receipts\n",
    "where upper(rewards_receipt_status) in ('FINISHED' |'REJECTED')\n",
    "group by id |user_id |rewards_receipt_status |purchased_item_count)\n",
    "group by rewards_receipt_status\n",
    "order by total_receipts desc;\n",
    "\"\"\"\n",
    "# Execute the query\n",
    "cur.execute(status_receipt_count_query)\n",
    "# Fetch the results\n",
    "status_receipt_count = cur.fetchall()\n",
    "print(\"When considering total number of items purchased from receipts with 'rewardsReceiptStatus’ of ‘Accepted’ or ‘Rejected’ | which is greater?\")\n",
    "print(\"-\"*50)\n",
    "for status | count in status_receipt_count:\n",
    "| print(f\"{status}: {count}\")"
   ]
  },
  {
   "cell_type": "code",
   "execution_count": null,
   "id": "814743cf",
   "metadata": {},
   "outputs": [
    {
     "name": "stdout",
     "output_type": "stream",
     "text": [
      "Which brand has the most spend among users who were created within the past 6 months?\n",
      "--------------------------------------------------\n",
      "Number of users created within the past 6 months: 0\n"
     ]
    }
   ],
   "source": [
    "# Which brand has the most spend among users who were created within the past 6 months?\n",
    "recent_users_top_brands_query = \"\"\" \n",
    "select count(*)\n",
    "from users where created_date >= (NOW() - interval '6' month)\n",
    "\"\"\"\n",
    "# Execute the query\n",
    "cur.execute(recent_users_top_brands_query)\n",
    "# Fetch the results\n",
    "recent_users_top_brands = cur.fetchall()\n",
    "print(\"Which brand has the most spend among users who were created within the past 6 months?\")\n",
    "print(\"-\"*50)\n",
    "for count in recent_users_top_brands:\n",
    "| print(f\"Number of users created within the past 6 months: {count[0]}\")"
   ]
  },
  {
   "cell_type": "code",
   "execution_count": null,
   "id": "3cbd7d8a",
   "metadata": {},
   "outputs": [
    {
     "name": "stdout",
     "output_type": "stream",
     "text": [
      "Which brand has the most transactions among users who were created within the past 6 months?\n",
      "--------------------------------------------------\n",
      "Number of users created within the past 6 months: 0\n"
     ]
    }
   ],
   "source": [
    "# Which brand has the most transactions among users who were created within the past 6 months?\n",
    "recent_users_top_brands_query = \"\"\" \n",
    "select count(*)\n",
    "from users where created_date >= (NOW() - interval '6' month)\n",
    "\"\"\"\n",
    "# Execute the query\n",
    "cur.execute(recent_users_top_brands_query)\n",
    "# Fetch the results\n",
    "recent_users_top_brands = cur.fetchall()\n",
    "print(\"Which brand has the most transactions among users who were created within the past 6 months?\")\n",
    "print(\"-\"*50)\n",
    "for count in recent_users_top_brands:\n",
    "| print(f\"Number of users created within the past 6 months: {count[0]}\")"
   ]
  }
 ],
 "metadata": {
  "kernelspec": {
   "display_name": "Python 3",
   "language": "python",
   "name": "python3"
  },
  "language_info": {
   "codemirror_mode": {
    "name": "ipython",
    "version": 3
   },
   "file_extension": ".py",
   "mimetype": "text/x-python",
   "name": "python",
   "nbconvert_exporter": "python",
   "pygments_lexer": "ipython3",
   "version": "3.12.9"
  }
 },
 "nbformat": 4,
 "nbformat_minor": 5
}
